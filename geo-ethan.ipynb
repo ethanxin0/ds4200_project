{
 "cells": [
  {
   "cell_type": "code",
   "execution_count": 88,
   "id": "dfe0fb5b-14c3-406d-ab34-1d20bf8ea4c5",
   "metadata": {},
   "outputs": [],
   "source": [
    "import pandas as pd\n",
    "import geopandas as gd\n",
    "import folium\n",
    "import plotly.express as px\n",
    "import altair as alt\n",
    "import pylab as py\n",
    "import seaborn as sns\n",
    "import matplotlib.pyplot as plt"
   ]
  },
  {
   "cell_type": "code",
   "execution_count": 128,
   "id": "b671ffb2-acc6-48ff-907e-3c15883f1c3a",
   "metadata": {},
   "outputs": [],
   "source": [
    "df = pd.read_csv(\"top5-players.csv\")"
   ]
  },
  {
   "cell_type": "code",
   "execution_count": 129,
   "id": "465739f9-0bae-476c-913e-de34d158381a",
   "metadata": {},
   "outputs": [
    {
     "data": {
      "text/html": [
       "<div>\n",
       "<style scoped>\n",
       "    .dataframe tbody tr th:only-of-type {\n",
       "        vertical-align: middle;\n",
       "    }\n",
       "\n",
       "    .dataframe tbody tr th {\n",
       "        vertical-align: top;\n",
       "    }\n",
       "\n",
       "    .dataframe thead th {\n",
       "        text-align: right;\n",
       "    }\n",
       "</style>\n",
       "<table border=\"1\" class=\"dataframe\">\n",
       "  <thead>\n",
       "    <tr style=\"text-align: right;\">\n",
       "      <th></th>\n",
       "      <th>Rk</th>\n",
       "      <th>Player</th>\n",
       "      <th>Nation</th>\n",
       "      <th>Pos</th>\n",
       "      <th>Squad</th>\n",
       "      <th>Comp</th>\n",
       "      <th>Age</th>\n",
       "      <th>Born</th>\n",
       "      <th>MP</th>\n",
       "      <th>Starts</th>\n",
       "      <th>...</th>\n",
       "      <th>Gls_90</th>\n",
       "      <th>Ast_90</th>\n",
       "      <th>G+A_90</th>\n",
       "      <th>G-PK_90</th>\n",
       "      <th>G+A-PK_90</th>\n",
       "      <th>xG_90</th>\n",
       "      <th>xAG_90</th>\n",
       "      <th>xG+xAG_90</th>\n",
       "      <th>npxG_90</th>\n",
       "      <th>npxG+xAG_90</th>\n",
       "    </tr>\n",
       "  </thead>\n",
       "  <tbody>\n",
       "    <tr>\n",
       "      <th>0</th>\n",
       "      <td>1</td>\n",
       "      <td>Max Aarons</td>\n",
       "      <td>eng ENG</td>\n",
       "      <td>DF</td>\n",
       "      <td>Bournemouth</td>\n",
       "      <td>eng Premier League</td>\n",
       "      <td>23.0</td>\n",
       "      <td>2000.0</td>\n",
       "      <td>20</td>\n",
       "      <td>13</td>\n",
       "      <td>...</td>\n",
       "      <td>0.00</td>\n",
       "      <td>0.07</td>\n",
       "      <td>0.07</td>\n",
       "      <td>0.00</td>\n",
       "      <td>0.07</td>\n",
       "      <td>0.00</td>\n",
       "      <td>0.06</td>\n",
       "      <td>0.06</td>\n",
       "      <td>0.00</td>\n",
       "      <td>0.06</td>\n",
       "    </tr>\n",
       "    <tr>\n",
       "      <th>1</th>\n",
       "      <td>2</td>\n",
       "      <td>Brenden Aaronson</td>\n",
       "      <td>us USA</td>\n",
       "      <td>MF,FW</td>\n",
       "      <td>Union Berlin</td>\n",
       "      <td>de Bundesliga</td>\n",
       "      <td>22.0</td>\n",
       "      <td>2000.0</td>\n",
       "      <td>30</td>\n",
       "      <td>14</td>\n",
       "      <td>...</td>\n",
       "      <td>0.14</td>\n",
       "      <td>0.14</td>\n",
       "      <td>0.28</td>\n",
       "      <td>0.14</td>\n",
       "      <td>0.28</td>\n",
       "      <td>0.14</td>\n",
       "      <td>0.13</td>\n",
       "      <td>0.27</td>\n",
       "      <td>0.14</td>\n",
       "      <td>0.27</td>\n",
       "    </tr>\n",
       "    <tr>\n",
       "      <th>2</th>\n",
       "      <td>3</td>\n",
       "      <td>Paxten Aaronson</td>\n",
       "      <td>us USA</td>\n",
       "      <td>MF</td>\n",
       "      <td>Eint Frankfurt</td>\n",
       "      <td>de Bundesliga</td>\n",
       "      <td>19.0</td>\n",
       "      <td>2003.0</td>\n",
       "      <td>7</td>\n",
       "      <td>1</td>\n",
       "      <td>...</td>\n",
       "      <td>0.00</td>\n",
       "      <td>0.89</td>\n",
       "      <td>0.89</td>\n",
       "      <td>0.00</td>\n",
       "      <td>0.89</td>\n",
       "      <td>0.11</td>\n",
       "      <td>0.07</td>\n",
       "      <td>0.19</td>\n",
       "      <td>0.11</td>\n",
       "      <td>0.19</td>\n",
       "    </tr>\n",
       "    <tr>\n",
       "      <th>3</th>\n",
       "      <td>4</td>\n",
       "      <td>Keyliane Abdallah</td>\n",
       "      <td>fr FRA</td>\n",
       "      <td>FW</td>\n",
       "      <td>Marseille</td>\n",
       "      <td>fr Ligue 1</td>\n",
       "      <td>17.0</td>\n",
       "      <td>2006.0</td>\n",
       "      <td>1</td>\n",
       "      <td>0</td>\n",
       "      <td>...</td>\n",
       "      <td>0.00</td>\n",
       "      <td>0.00</td>\n",
       "      <td>0.00</td>\n",
       "      <td>0.00</td>\n",
       "      <td>0.00</td>\n",
       "      <td>0.00</td>\n",
       "      <td>0.00</td>\n",
       "      <td>0.00</td>\n",
       "      <td>0.00</td>\n",
       "      <td>0.00</td>\n",
       "    </tr>\n",
       "    <tr>\n",
       "      <th>4</th>\n",
       "      <td>5</td>\n",
       "      <td>Yunis Abdelhamid</td>\n",
       "      <td>ma MAR</td>\n",
       "      <td>DF</td>\n",
       "      <td>Reims</td>\n",
       "      <td>fr Ligue 1</td>\n",
       "      <td>35.0</td>\n",
       "      <td>1987.0</td>\n",
       "      <td>31</td>\n",
       "      <td>31</td>\n",
       "      <td>...</td>\n",
       "      <td>0.13</td>\n",
       "      <td>0.00</td>\n",
       "      <td>0.13</td>\n",
       "      <td>0.10</td>\n",
       "      <td>0.10</td>\n",
       "      <td>0.11</td>\n",
       "      <td>0.01</td>\n",
       "      <td>0.12</td>\n",
       "      <td>0.09</td>\n",
       "      <td>0.09</td>\n",
       "    </tr>\n",
       "  </tbody>\n",
       "</table>\n",
       "<p>5 rows × 37 columns</p>\n",
       "</div>"
      ],
      "text/plain": [
       "   Rk             Player   Nation    Pos           Squad                Comp  \\\n",
       "0   1         Max Aarons  eng ENG     DF     Bournemouth  eng Premier League   \n",
       "1   2   Brenden Aaronson   us USA  MF,FW    Union Berlin       de Bundesliga   \n",
       "2   3    Paxten Aaronson   us USA     MF  Eint Frankfurt       de Bundesliga   \n",
       "3   4  Keyliane Abdallah   fr FRA     FW       Marseille          fr Ligue 1   \n",
       "4   5   Yunis Abdelhamid   ma MAR     DF           Reims          fr Ligue 1   \n",
       "\n",
       "    Age    Born  MP  Starts  ...  Gls_90  Ast_90  G+A_90  G-PK_90  G+A-PK_90  \\\n",
       "0  23.0  2000.0  20      13  ...    0.00    0.07    0.07     0.00       0.07   \n",
       "1  22.0  2000.0  30      14  ...    0.14    0.14    0.28     0.14       0.28   \n",
       "2  19.0  2003.0   7       1  ...    0.00    0.89    0.89     0.00       0.89   \n",
       "3  17.0  2006.0   1       0  ...    0.00    0.00    0.00     0.00       0.00   \n",
       "4  35.0  1987.0  31      31  ...    0.13    0.00    0.13     0.10       0.10   \n",
       "\n",
       "   xG_90  xAG_90  xG+xAG_90  npxG_90  npxG+xAG_90  \n",
       "0   0.00    0.06       0.06     0.00         0.06  \n",
       "1   0.14    0.13       0.27     0.14         0.27  \n",
       "2   0.11    0.07       0.19     0.11         0.19  \n",
       "3   0.00    0.00       0.00     0.00         0.00  \n",
       "4   0.11    0.01       0.12     0.09         0.09  \n",
       "\n",
       "[5 rows x 37 columns]"
      ]
     },
     "execution_count": 129,
     "metadata": {},
     "output_type": "execute_result"
    }
   ],
   "source": [
    "df.head()"
   ]
  },
  {
   "cell_type": "code",
   "execution_count": 130,
   "id": "1e3fb2cf-1ece-4d44-a138-8beb26bb498f",
   "metadata": {},
   "outputs": [
    {
     "data": {
      "text/plain": [
       "Index(['Rk', 'Player', 'Nation', 'Pos', 'Squad', 'Comp', 'Age', 'Born', 'MP',\n",
       "       'Starts', 'Min', '90s', 'Gls', 'Ast', 'G+A', 'G-PK', 'PK', 'PKatt',\n",
       "       'CrdY', 'CrdR', 'xG', 'npxG', 'xAG', 'npxG+xAG', 'PrgC', 'PrgP', 'PrgR',\n",
       "       'Gls_90', 'Ast_90', 'G+A_90', 'G-PK_90', 'G+A-PK_90', 'xG_90', 'xAG_90',\n",
       "       'xG+xAG_90', 'npxG_90', 'npxG+xAG_90'],\n",
       "      dtype='object')"
      ]
     },
     "execution_count": 130,
     "metadata": {},
     "output_type": "execute_result"
    }
   ],
   "source": [
    "df.columns"
   ]
  },
  {
   "cell_type": "code",
   "execution_count": null,
   "id": "6dfef88f-87a2-490f-93cb-28b4c84bc000",
   "metadata": {},
   "outputs": [],
   "source": []
  },
  {
   "cell_type": "code",
   "execution_count": 131,
   "id": "50f72057-78d4-4527-87aa-a4bcce485c65",
   "metadata": {},
   "outputs": [],
   "source": [
    "df['Nation'] = df['Nation'].str.split(' ').str[1]"
   ]
  },
  {
   "cell_type": "code",
   "execution_count": 149,
   "id": "0b28834e-6e98-41f7-ab4e-452801b0b4dd",
   "metadata": {},
   "outputs": [],
   "source": [
    "asd = df.groupby(\"Nation\")[\"G+A\"].sum().reset_index()"
   ]
  },
  {
   "cell_type": "code",
   "execution_count": 150,
   "id": "7bac535b-a902-45a2-85af-940f01f1267c",
   "metadata": {},
   "outputs": [
    {
     "data": {
      "image/png": "[encoded data removed]",
      "text/plain": [
       "<Figure size 1000x600 with 1 Axes>"
      ]
     },
     "metadata": {},
     "output_type": "display_data"
    }
   ],
   "source": [
    "plt.figure(figsize=(10, 6))  # Set figure size\n",
    "sns.boxplot(x='Comp', y='Age', data=df)\n",
    "\n",
    "# Add titles and labels\n",
    "plt.title('Top 5 League Age Boxplots', fontsize=16)\n",
    "plt.xlabel('Leagues', fontsize=12)\n",
    "plt.ylabel('Age', fontsize=12)\n",
    "\n",
    "# Show the plot\n",
    "\n",
    "plt.savefig(\"age_box.jpg\")\n",
    "\n"
   ]
  },
  {
   "cell_type": "code",
   "execution_count": 151,
   "id": "68b56bd6-fd17-4f08-9b69-26ee048e3e6c",
   "metadata": {},
   "outputs": [
    {
     "data": {
      "image/png": "[encoded data removed]",
      "text/plain": [
       "<Figure size 1000x600 with 1 Axes>"
      ]
     },
     "metadata": {},
     "output_type": "display_data"
    }
   ],
   "source": [
    "plt.figure(figsize=(10, 6))  # Set figure size\n",
    "sns.boxplot(x='Comp', y='G+A', data=df)\n",
    "\n",
    "# Add titles and labels\n",
    "plt.title('Top 5 League G+A Boxplots', fontsize=16)\n",
    "plt.xlabel('Leagues', fontsize=12)\n",
    "plt.ylabel('G+A', fontsize=12)\n",
    "\n",
    "# Show the plot\n",
    "\n",
    "\n",
    "plt.savefig(\"g+a.jpg\")\n"
   ]
  },
  {
   "cell_type": "code",
   "execution_count": 152,
   "id": "727a1bb7-8d31-454e-a57b-9d22e112857b",
   "metadata": {},
   "outputs": [
    {
     "data": {
      "image/png": "[encoded data removed]",
      "text/plain": [
       "<Figure size 1000x400 with 1 Axes>"
      ]
     },
     "metadata": {},
     "output_type": "display_data"
    }
   ],
   "source": [
    "# residuals vs stop count\n",
    "py.figure(figsize=(10, 4))\n",
    "py.scatter(df[\"PrgP\"], df[\"Gls\"])\n",
    "py.xlabel('Stop Count')\n",
    "py.ylabel('Residuals')\n",
    "py.title('Residuals vs Stop Count')\n",
    "py.show()"
   ]
  },
  {
   "cell_type": "code",
   "execution_count": 153,
   "id": "91d44892-dd9d-490e-9980-454dfedd44b9",
   "metadata": {},
   "outputs": [
    {
     "data": {
      "text/plain": [
       "array(['ALB', 'ALG', 'ANG', 'ARG', 'ARM', 'AUS', 'AUT', 'BDI', 'BEL',\n",
       "       'BEN', 'BFA', 'BIH', 'BRA', 'BUL', 'CAN', 'CGO', 'CHI', 'CIV',\n",
       "       'CMR', 'COD', 'COL', 'COM', 'CPV', 'CRC', 'CRO', 'CTA', 'CYP',\n",
       "       'CZE', 'DEN', 'DOM', 'ECU', 'EGY', 'EQG', 'ESP', 'FIN', 'FRA',\n",
       "       'GAB', 'GAM', 'GB', 'GEO', 'GER', 'GHA', 'GNB', 'GRE', 'GRN',\n",
       "       'GUF', 'GUI', 'HAI', 'HON', 'HUN', 'IRL', 'IRN', 'ISL', 'ISR',\n",
       "       'ITA', 'JAM', 'JOR', 'JPN', 'KEN', 'KOR', 'KVX', 'LTU', 'LUX',\n",
       "       'MAD', 'MAR', 'MEX', 'MKD', 'MLI', 'MLT', 'MNE', 'MOZ', 'MTQ',\n",
       "       'NED', 'NGA', 'NIR', 'NOR', 'NZL', 'PAN', 'PAR', 'PER', 'PHI',\n",
       "       'POL', 'POR', 'ROU', 'RSA', 'RUS', 'SCO', 'SEN', 'SLE', 'SRB',\n",
       "       'SUI', 'SUR', 'SVK', 'SVN', 'SWE', 'SYR', 'TOG', 'TUN', 'TUR',\n",
       "       'UKR', 'URU', 'USA', 'UZB', 'VEN', 'WAL', 'ZAM', 'ZIM'],\n",
       "      dtype=object)"
      ]
     },
     "execution_count": 153,
     "metadata": {},
     "output_type": "execute_result"
    }
   ],
   "source": [
    "asd[\"Nation\"].unique()"
   ]
  },
  {
   "cell_type": "code",
   "execution_count": 166,
   "id": "0c83dcb5-9b8a-4b04-b3a1-76e81dab9592",
   "metadata": {},
   "outputs": [
    {
     "data": {
      "application/vnd.plotly.v1+json": {
       "config": {
        "plotlyServerURL": "https://plot.ly"
       },
       "data": [
        {
         "coloraxis": "coloraxis",
         "customdata": [
          [
           "ALB",
           26
          ],
          [
           "ALG",
           48
          ],
          [
           "ANG",
           20
          ],
          [
           "ARG",
           298
          ],
          [
           "ARM",
           13
          ],
          [
           "AUS",
           0
          ],
          [
           "AUT",
           140
          ],
          [
           "BDI",
           0
          ],
          [
           "BEL",
           188
          ],
          [
           "BEN",
           10
          ],
          [
           "BFA",
           8
          ],
          [
           "BIH",
           41
          ],
          [
           "BRA",
           360
          ],
          [
           "BUL",
           0
          ],
          [
           "CAN",
           37
          ],
          [
           "CGO",
           3
          ],
          [
           "CHI",
           19
          ],
          [
           "CIV",
           98
          ],
          [
           "CMR",
           43
          ],
          [
           "COD",
           28
          ],
          [
           "COL",
           75
          ],
          [
           "COM",
           0
          ],
          [
           "CPV",
           5
          ],
          [
           "CRC",
           1
          ],
          [
           "CRO",
           111
          ],
          [
           "CTA",
           0
          ],
          [
           "CYP",
           7
          ],
          [
           "CZE",
           54
          ],
          [
           "DEN",
           128
          ],
          [
           "DOM",
           0
          ],
          [
           "ECU",
           15
          ],
          [
           "EGY",
           56
          ],
          [
           "EQG",
           1
          ],
          [
           "ESP",
           1048
          ],
          [
           "FIN",
           6
          ],
          [
           "FRA",
           907
          ],
          [
           "GAB",
           35
          ],
          [
           "GAM",
           5
          ],
          [
           "GBR",
           763
          ],
          [
           "GEO",
           34
          ],
          [
           "DEU",
           827
          ],
          [
           "GHA",
           92
          ],
          [
           "GNB",
           9
          ],
          [
           "GRE",
           21
          ],
          [
           "GRN",
           2
          ],
          [
           "GUF",
           2
          ],
          [
           "GUI",
           50
          ],
          [
           "HAI",
           0
          ],
          [
           "HON",
           3
          ],
          [
           "HUN",
           17
          ],
          [
           "IRL",
           32
          ],
          [
           "IRN",
           4
          ],
          [
           "ISL",
           24
          ],
          [
           "ISR",
           3
          ],
          [
           "ITA",
           557
          ],
          [
           "JAM",
           44
          ],
          [
           "JOR",
           7
          ],
          [
           "JPN",
           77
          ],
          [
           "KEN",
           1
          ],
          [
           "KOR",
           65
          ],
          [
           "KVX",
           29
          ],
          [
           "LTU",
           0
          ],
          [
           "LUX",
           5
          ],
          [
           "MAD",
           5
          ],
          [
           "MAR",
           111
          ],
          [
           "MEX",
           12
          ],
          [
           "MKD",
           2
          ],
          [
           "MLI",
           47
          ],
          [
           "MLT",
           9
          ],
          [
           "MNE",
           9
          ],
          [
           "MOZ",
           4
          ],
          [
           "MTQ",
           5
          ],
          [
           "NL",
           247
          ],
          [
           "NGA",
           136
          ],
          [
           "NIR",
           6
          ],
          [
           "NOR",
           127
          ],
          [
           "NZL",
           16
          ],
          [
           "PAN",
           5
          ],
          [
           "PAR",
           12
          ],
          [
           "PER",
           4
          ],
          [
           "PHI",
           0
          ],
          [
           "POL",
           64
          ],
          [
           "PT",
           204
          ],
          [
           "ROU",
           10
          ],
          [
           "RSA",
           11
          ],
          [
           "RUS",
           27
          ],
          [
           "SCO",
           63
          ],
          [
           "SEN",
           86
          ],
          [
           "SLE",
           0
          ],
          [
           "SRB",
           71
          ],
          [
           "SUI",
           74
          ],
          [
           "SUR",
           6
          ],
          [
           "SVK",
           17
          ],
          [
           "SVN",
           21
          ],
          [
           "SWE",
           83
          ],
          [
           "SYR",
           0
          ],
          [
           "TOG",
           19
          ],
          [
           "TUN",
           10
          ],
          [
           "TUR",
           41
          ],
          [
           "UKR",
           71
          ],
          [
           "URU",
           91
          ],
          [
           "USA",
           94
          ],
          [
           "UZB",
           6
          ],
          [
           "VEN",
           13
          ],
          [
           "WAL",
           34
          ],
          [
           "ZAM",
           7
          ],
          [
           "ZIM",
           9
          ]
         ],
         "geo": "geo",
         "hovertemplate": "<b>%{hovertext}</b><br><br>Nation=%{customdata[0]}<br>G+A=%{z}<extra></extra>",
         "hovertext": [
          "ALB",
          "ALG",
          "ANG",
          "ARG",
          "ARM",
          "AUS",
          "AUT",
          "BDI",
          "BEL",
          "BEN",
          "BFA",
          "BIH",
          "BRA",
          "BUL",
          "CAN",
          "CGO",
          "CHI",
          "CIV",
          "CMR",
          "COD",
          "COL",
          "COM",
          "CPV",
          "CRC",
          "CRO",
          "CTA",
          "CYP",
          "CZE",
          "DEN",
          "DOM",
          "ECU",
          "EGY",
          "EQG",
          "ESP",
          "FIN",
          "FRA",
          "GAB",
          "GAM",
          "GBR",
          "GEO",
          "DEU",
          "GHA",
          "GNB",
          "GRE",
          "GRN",
          "GUF",
          "GUI",
          "HAI",
          "HON",
          "HUN",
          "IRL",
          "IRN",
          "ISL",
          "ISR",
          "ITA",
          "JAM",
          "JOR",
          "JPN",
          "KEN",
          "KOR",
          "KVX",
          "LTU",
          "LUX",
          "MAD",
          "MAR",
          "MEX",
          "MKD",
          "MLI",
          "MLT",
          "MNE",
          "MOZ",
          "MTQ",
          "NL",
          "NGA",
          "NIR",
          "NOR",
          "NZL",
          "PAN",
          "PAR",
          "PER",
          "PHI",
          "POL",
          "PT",
          "ROU",
          "RSA",
          "RUS",
          "SCO",
          "SEN",
          "SLE",
          "SRB",
          "SUI",
          "SUR",
          "SVK",
          "SVN",
          "SWE",
          "SYR",
          "TOG",
          "TUN",
          "TUR",
          "UKR",
          "URU",
          "USA",
          "UZB",
          "VEN",
          "WAL",
          "ZAM",
          "ZIM"
         ],
         "locations": [
          "ALB",
          "ALG",
          "ANG",
          "ARG",
          "ARM",
          "AUS",
          "AUT",
          "BDI",
          "BEL",
          "BEN",
          "BFA",
          "BIH",
          "BRA",
          "BUL",
          "CAN",
          "CGO",
          "CHI",
          "CIV",
          "CMR",
          "COD",
          "COL",
          "COM",
          "CPV",
          "CRC",
          "CRO",
          "CTA",
          "CYP",
          "CZE",
          "DEN",
          "DOM",
          "ECU",
          "EGY",
          "EQG",
          "ESP",
          "FIN",
          "FRA",
          "GAB",
          "GAM",
          "GBR",
          "GEO",
          "DEU",
          "GHA",
          "GNB",
          "GRE",
          "GRN",
          "GUF",
          "GUI",
          "HAI",
          "HON",
          "HUN",
          "IRL",
          "IRN",
          "ISL",
          "ISR",
          "ITA",
          "JAM",
          "JOR",
          "JPN",
          "KEN",
          "KOR",
          "KVX",
          "LTU",
          "LUX",
          "MAD",
          "MAR",
          "MEX",
          "MKD",
          "MLI",
          "MLT",
          "MNE",
          "MOZ",
          "MTQ",
          "NL",
          "NGA",
          "NIR",
          "NOR",
          "NZL",
          "PAN",
          "PAR",
          "PER",
          "PHI",
          "POL",
          "PT",
          "ROU",
          "RSA",
          "RUS",
          "SCO",
          "SEN",
          "SLE",
          "SRB",
          "SUI",
          "SUR",
          "SVK",
          "SVN",
          "SWE",
          "SYR",
          "TOG",
          "TUN",
          "TUR",
          "UKR",
          "URU",
          "USA",
          "UZB",
          "VEN",
          "WAL",
          "ZAM",
          "ZIM"
         ],
         "name": "",
         "type": "choropleth",
         "z": [
          26,
          48,
          20,
          298,
          13,
          0,
          140,
          0,
          188,
          10,
          8,
          41,
          360,
          0,
          37,
          3,
          19,
          98,
          43,
          28,
          75,
          0,
          5,
          1,
          111,
          0,
          7,
          54,
          128,
          0,
          15,
          56,
          1,
          1048,
          6,
          907,
          35,
          5,
          763,
          34,
          827,
          92,
          9,
          21,
          2,
          2,
          50,
          0,
          3,
          17,
          32,
          4,
          24,
          3,
          557,
          44,
          7,
          77,
          1,
          65,
          29,
          0,
          5,
          5,
          111,
          12,
          2,
          47,
          9,
          9,
          4,
          5,
          247,
          136,
          6,
          127,
          16,
          5,
          12,
          4,
          0,
          64,
          204,
          10,
          11,
          27,
          63,
          86,
          0,
          71,
          74,
          6,
          17,
          21,
          83,
          0,
          19,
          10,
          41,
          71,
          91,
          94,
          6,
          13,
          34,
          7,
          9
         ]
        }
       ],
       "layout": {
        "autosize": true,
        "coloraxis": {
         "colorbar": {
          "title": {
           "text": "G+A"
          }
         },
         "colorscale": [
          [
           0,
           "#0d0887"
          ],
          [
           0.1111111111111111,
           "#46039f"
          ],
          [
           0.2222222222222222,
           "#7201a8"
          ],
          [
           0.3333333333333333,
           "#9c179e"
          ],
          [
           0.4444444444444444,
           "#bd3786"
          ],
          [
           0.5555555555555556,
           "#d8576b"
          ],
          [
           0.6666666666666666,
           "#ed7953"
          ],
          [
           0.7777777777777778,
           "#fb9f3a"
          ],
          [
           0.8888888888888888,
           "#fdca26"
          ],
          [
           1,
           "#f0f921"
          ]
         ]
        },
        "geo": {
         "center": {
          "lat": 21.078414100387366,
          "lon": 56.08397411093189
         },
         "coastlinecolor": "Black",
         "domain": {
          "x": [
           0,
           1
          ],
          "y": [
           0,
           1
          ]
         },
         "projection": {
          "rotation": {
           "lon": 56.08397411093189
          },
          "scale": 0.7810199754468571
         },
         "showcoastlines": true
        },
        "legend": {
         "tracegroupgap": 0
        },
        "margin": {
         "t": 60
        },
        "template": {
         "data": {
          "bar": [
           {
            "error_x": {
             "color": "#2a3f5f"
            },
            "error_y": {
             "color": "#2a3f5f"
            },
            "marker": {
             "line": {
              "color": "#E5ECF6",
              "width": 0.5
             },
             "pattern": {
              "fillmode": "overlay",
              "size": 10,
              "solidity": 0.2
             }
            },
            "type": "bar"
           }
          ],
          "barpolar": [
           {
            "marker": {
             "line": {
              "color": "#E5ECF6",
              "width": 0.5
             },
             "pattern": {
              "fillmode": "overlay",
              "size": 10,
              "solidity": 0.2
             }
            },
            "type": "barpolar"
           }
          ],
          "carpet": [
           {
            "aaxis": {
             "endlinecolor": "#2a3f5f",
             "gridcolor": "white",
             "linecolor": "white",
             "minorgridcolor": "white",
             "startlinecolor": "#2a3f5f"
            },
            "baxis": {
             "endlinecolor": "#2a3f5f",
             "gridcolor": "white",
             "linecolor": "white",
             "minorgridcolor": "white",
             "startlinecolor": "#2a3f5f"
            },
            "type": "carpet"
           }
          ],
          "choropleth": [
           {
            "colorbar": {
             "outlinewidth": 0,
             "ticks": ""
            },
            "type": "choropleth"
           }
          ],
          "contour": [
           {
            "colorbar": {
             "outlinewidth": 0,
             "ticks": ""
            },
            "colorscale": [
             [
              0,
              "#0d0887"
             ],
             [
              0.1111111111111111,
              "#46039f"
             ],
             [
              0.2222222222222222,
              "#7201a8"
             ],
             [
              0.3333333333333333,
              "#9c179e"
             ],
             [
              0.4444444444444444,
              "#bd3786"
             ],
             [
              0.5555555555555556,
              "#d8576b"
             ],
             [
              0.6666666666666666,
              "#ed7953"
             ],
             [
              0.7777777777777778,
              "#fb9f3a"
             ],
             [
              0.8888888888888888,
              "#fdca26"
             ],
             [
              1,
              "#f0f921"
             ]
            ],
            "type": "contour"
           }
          ],
          "contourcarpet": [
           {
            "colorbar": {
             "outlinewidth": 0,
             "ticks": ""
            },
            "type": "contourcarpet"
           }
          ],
          "heatmap": [
           {
            "colorbar": {
             "outlinewidth": 0,
             "ticks": ""
            },
            "colorscale": [
             [
              0,
              "#0d0887"
             ],
             [
              0.1111111111111111,
              "#46039f"
             ],
             [
              0.2222222222222222,
              "#7201a8"
             ],
             [
              0.3333333333333333,
              "#9c179e"
             ],
             [
              0.4444444444444444,
              "#bd3786"
             ],
             [
              0.5555555555555556,
              "#d8576b"
             ],
             [
              0.6666666666666666,
              "#ed7953"
             ],
             [
              0.7777777777777778,
              "#fb9f3a"
             ],
             [
              0.8888888888888888,
              "#fdca26"
             ],
             [
              1,
              "#f0f921"
             ]
            ],
            "type": "heatmap"
           }
          ],
          "heatmapgl": [
           {
            "colorbar": {
             "outlinewidth": 0,
             "ticks": ""
            },
            "colorscale": [
             [
              0,
              "#0d0887"
             ],
             [
              0.1111111111111111,
              "#46039f"
             ],
             [
              0.2222222222222222,
              "#7201a8"
             ],
             [
              0.3333333333333333,
              "#9c179e"
             ],
             [
              0.4444444444444444,
              "#bd3786"
             ],
             [
              0.5555555555555556,
              "#d8576b"
             ],
             [
              0.6666666666666666,
              "#ed7953"
             ],
             [
              0.7777777777777778,
              "#fb9f3a"
             ],
             [
              0.8888888888888888,
              "#fdca26"
             ],
             [
              1,
              "#f0f921"
             ]
            ],
            "type": "heatmapgl"
           }
          ],
          "histogram": [
           {
            "marker": {
             "pattern": {
              "fillmode": "overlay",
              "size": 10,
              "solidity": 0.2
             }
            },
            "type": "histogram"
           }
          ],
          "histogram2d": [
           {
            "colorbar": {
             "outlinewidth": 0,
             "ticks": ""
            },
            "colorscale": [
             [
              0,
              "#0d0887"
             ],
             [
              0.1111111111111111,
              "#46039f"
             ],
             [
              0.2222222222222222,
              "#7201a8"
             ],
             [
              0.3333333333333333,
              "#9c179e"
             ],
             [
              0.4444444444444444,
              "#bd3786"
             ],
             [
              0.5555555555555556,
              "#d8576b"
             ],
             [
              0.6666666666666666,
              "#ed7953"
             ],
             [
              0.7777777777777778,
              "#fb9f3a"
             ],
             [
              0.8888888888888888,
              "#fdca26"
             ],
             [
              1,
              "#f0f921"
             ]
            ],
            "type": "histogram2d"
           }
          ],
          "histogram2dcontour": [
           {
            "colorbar": {
             "outlinewidth": 0,
             "ticks": ""
            },
            "colorscale": [
             [
              0,
              "#0d0887"
             ],
             [
              0.1111111111111111,
              "#46039f"
             ],
             [
              0.2222222222222222,
              "#7201a8"
             ],
             [
              0.3333333333333333,
              "#9c179e"
             ],
             [
              0.4444444444444444,
              "#bd3786"
             ],
             [
              0.5555555555555556,
              "#d8576b"
             ],
             [
              0.6666666666666666,
              "#ed7953"
             ],
             [
              0.7777777777777778,
              "#fb9f3a"
             ],
             [
              0.8888888888888888,
              "#fdca26"
             ],
             [
              1,
              "#f0f921"
             ]
            ],
            "type": "histogram2dcontour"
           }
          ],
          "mesh3d": [
           {
            "colorbar": {
             "outlinewidth": 0,
             "ticks": ""
            },
            "type": "mesh3d"
           }
          ],
          "parcoords": [
           {
            "line": {
             "colorbar": {
              "outlinewidth": 0,
              "ticks": ""
             }
            },
            "type": "parcoords"
           }
          ],
          "pie": [
           {
            "automargin": true,
            "type": "pie"
           }
          ],
          "scatter": [
           {
            "fillpattern": {
             "fillmode": "overlay",
             "size": 10,
             "solidity": 0.2
            },
            "type": "scatter"
           }
          ],
          "scatter3d": [
           {
            "line": {
             "colorbar": {
              "outlinewidth": 0,
              "ticks": ""
             }
            },
            "marker": {
             "colorbar": {
              "outlinewidth": 0,
              "ticks": ""
             }
            },
            "type": "scatter3d"
           }
          ],
          "scattercarpet": [
           {
            "marker": {
             "colorbar": {
              "outlinewidth": 0,
              "ticks": ""
             }
            },
            "type": "scattercarpet"
           }
          ],
          "scattergeo": [
           {
            "marker": {
             "colorbar": {
              "outlinewidth": 0,
              "ticks": ""
             }
            },
            "type": "scattergeo"
           }
          ],
          "scattergl": [
           {
            "marker": {
             "colorbar": {
              "outlinewidth": 0,
              "ticks": ""
             }
            },
            "type": "scattergl"
           }
          ],
          "scattermapbox": [
           {
            "marker": {
             "colorbar": {
              "outlinewidth": 0,
              "ticks": ""
             }
            },
            "type": "scattermapbox"
           }
          ],
          "scatterpolar": [
           {
            "marker": {
             "colorbar": {
              "outlinewidth": 0,
              "ticks": ""
             }
            },
            "type": "scatterpolar"
           }
          ],
          "scatterpolargl": [
           {
            "marker": {
             "colorbar": {
              "outlinewidth": 0,
              "ticks": ""
             }
            },
            "type": "scatterpolargl"
           }
          ],
          "scatterternary": [
           {
            "marker": {
             "colorbar": {
              "outlinewidth": 0,
              "ticks": ""
             }
            },
            "type": "scatterternary"
           }
          ],
          "surface": [
           {
            "colorbar": {
             "outlinewidth": 0,
             "ticks": ""
            },
            "colorscale": [
             [
              0,
              "#0d0887"
             ],
             [
              0.1111111111111111,
              "#46039f"
             ],
             [
              0.2222222222222222,
              "#7201a8"
             ],
             [
              0.3333333333333333,
              "#9c179e"
             ],
             [
              0.4444444444444444,
              "#bd3786"
             ],
             [
              0.5555555555555556,
              "#d8576b"
             ],
             [
              0.6666666666666666,
              "#ed7953"
             ],
             [
              0.7777777777777778,
              "#fb9f3a"
             ],
             [
              0.8888888888888888,
              "#fdca26"
             ],
             [
              1,
              "#f0f921"
             ]
            ],
            "type": "surface"
           }
          ],
          "table": [
           {
            "cells": {
             "fill": {
              "color": "#EBF0F8"
             },
             "line": {
              "color": "white"
             }
            },
            "header": {
             "fill": {
              "color": "#C8D4E3"
             },
             "line": {
              "color": "white"
             }
            },
            "type": "table"
           }
          ]
         },
         "layout": {
          "annotationdefaults": {
           "arrowcolor": "#2a3f5f",
           "arrowhead": 0,
           "arrowwidth": 1
          },
          "autotypenumbers": "strict",
          "coloraxis": {
           "colorbar": {
            "outlinewidth": 0,
            "ticks": ""
           }
          },
          "colorscale": {
           "diverging": [
            [
             0,
             "#8e0152"
            ],
            [
             0.1,
             "#c51b7d"
            ],
            [
             0.2,
             "#de77ae"
            ],
            [
             0.3,
             "#f1b6da"
            ],
            [
             0.4,
             "#fde0ef"
            ],
            [
             0.5,
             "#f7f7f7"
            ],
            [
             0.6,
             "#e6f5d0"
            ],
            [
             0.7,
             "#b8e186"
            ],
            [
             0.8,
             "#7fbc41"
            ],
            [
             0.9,
             "#4d9221"
            ],
            [
             1,
             "#276419"
            ]
           ],
           "sequential": [
            [
             0,
             "#0d0887"
            ],
            [
             0.1111111111111111,
             "#46039f"
            ],
            [
             0.2222222222222222,
             "#7201a8"
            ],
            [
             0.3333333333333333,
             "#9c179e"
            ],
            [
             0.4444444444444444,
             "#bd3786"
            ],
            [
             0.5555555555555556,
             "#d8576b"
            ],
            [
             0.6666666666666666,
             "#ed7953"
            ],
            [
             0.7777777777777778,
             "#fb9f3a"
            ],
            [
             0.8888888888888888,
             "#fdca26"
            ],
            [
             1,
             "#f0f921"
            ]
           ],
           "sequentialminus": [
            [
             0,
             "#0d0887"
            ],
            [
             0.1111111111111111,
             "#46039f"
            ],
            [
             0.2222222222222222,
             "#7201a8"
            ],
            [
             0.3333333333333333,
             "#9c179e"
            ],
            [
             0.4444444444444444,
             "#bd3786"
            ],
            [
             0.5555555555555556,
             "#d8576b"
            ],
            [
             0.6666666666666666,
             "#ed7953"
            ],
            [
             0.7777777777777778,
             "#fb9f3a"
            ],
            [
             0.8888888888888888,
             "#fdca26"
            ],
            [
             1,
             "#f0f921"
            ]
           ]
          },
          "colorway": [
           "#636efa",
           "#EF553B",
           "#00cc96",
           "#ab63fa",
           "#FFA15A",
           "#19d3f3",
           "#FF6692",
           "#B6E880",
           "#FF97FF",
           "#FECB52"
          ],
          "font": {
           "color": "#2a3f5f"
          },
          "geo": {
           "bgcolor": "white",
           "lakecolor": "white",
           "landcolor": "#E5ECF6",
           "showlakes": true,
           "showland": true,
           "subunitcolor": "white"
          },
          "hoverlabel": {
           "align": "left"
          },
          "hovermode": "closest",
          "mapbox": {
           "style": "light"
          },
          "paper_bgcolor": "white",
          "plot_bgcolor": "#E5ECF6",
          "polar": {
           "angularaxis": {
            "gridcolor": "white",
            "linecolor": "white",
            "ticks": ""
           },
           "bgcolor": "#E5ECF6",
           "radialaxis": {
            "gridcolor": "white",
            "linecolor": "white",
            "ticks": ""
           }
          },
          "scene": {
           "xaxis": {
            "backgroundcolor": "#E5ECF6",
            "gridcolor": "white",
            "gridwidth": 2,
            "linecolor": "white",
            "showbackground": true,
            "ticks": "",
            "zerolinecolor": "white"
           },
           "yaxis": {
            "backgroundcolor": "#E5ECF6",
            "gridcolor": "white",
            "gridwidth": 2,
            "linecolor": "white",
            "showbackground": true,
            "ticks": "",
            "zerolinecolor": "white"
           },
           "zaxis": {
            "backgroundcolor": "#E5ECF6",
            "gridcolor": "white",
            "gridwidth": 2,
            "linecolor": "white",
            "showbackground": true,
            "ticks": "",
            "zerolinecolor": "white"
           }
          },
          "shapedefaults": {
           "line": {
            "color": "#2a3f5f"
           }
          },
          "ternary": {
           "aaxis": {
            "gridcolor": "white",
            "linecolor": "white",
            "ticks": ""
           },
           "baxis": {
            "gridcolor": "white",
            "linecolor": "white",
            "ticks": ""
           },
           "bgcolor": "#E5ECF6",
           "caxis": {
            "gridcolor": "white",
            "linecolor": "white",
            "ticks": ""
           }
          },
          "title": {
           "x": 0.05
          },
          "xaxis": {
           "automargin": true,
           "gridcolor": "white",
           "linecolor": "white",
           "ticks": "",
           "title": {
            "standoff": 15
           },
           "zerolinecolor": "white",
           "zerolinewidth": 2
          },
          "yaxis": {
           "automargin": true,
           "gridcolor": "white",
           "linecolor": "white",
           "ticks": "",
           "title": {
            "standoff": 15
           },
           "zerolinecolor": "white",
           "zerolinewidth": 2
          }
         }
        },
        "title": {
         "text": "G+A Global Map"
        }
       }
      },
      "image/png": "[encoded data removed]",
      "text/html": [
       "<div>                            <div id=\"fb907e06-041f-42b6-80a1-5bf27d4aca8e\" class=\"plotly-graph-div\" style=\"height:525px; width:100%;\"></div>            <script type=\"text/javascript\">                require([\"plotly\"], function(Plotly) {                    window.PLOTLYENV=window.PLOTLYENV || {};                                    if (document.getElementById(\"fb907e06-041f-42b6-80a1-5bf27d4aca8e\")) {                    Plotly.newPlot(                        \"fb907e06-041f-42b6-80a1-5bf27d4aca8e\",                        [{\"coloraxis\":\"coloraxis\",\"customdata\":[[\"ALB\",26],[\"ALG\",48],[\"ANG\",20],[\"ARG\",298],[\"ARM\",13],[\"AUS\",0],[\"AUT\",140],[\"BDI\",0],[\"BEL\",188],[\"BEN\",10],[\"BFA\",8],[\"BIH\",41],[\"BRA\",360],[\"BUL\",0],[\"CAN\",37],[\"CGO\",3],[\"CHI\",19],[\"CIV\",98],[\"CMR\",43],[\"COD\",28],[\"COL\",75],[\"COM\",0],[\"CPV\",5],[\"CRC\",1],[\"CRO\",111],[\"CTA\",0],[\"CYP\",7],[\"CZE\",54],[\"DEN\",128],[\"DOM\",0],[\"ECU\",15],[\"EGY\",56],[\"EQG\",1],[\"ESP\",1048],[\"FIN\",6],[\"FRA\",907],[\"GAB\",35],[\"GAM\",5],[\"GBR\",763],[\"GEO\",34],[\"DEU\",827],[\"GHA\",92],[\"GNB\",9],[\"GRE\",21],[\"GRN\",2],[\"GUF\",2],[\"GUI\",50],[\"HAI\",0],[\"HON\",3],[\"HUN\",17],[\"IRL\",32],[\"IRN\",4],[\"ISL\",24],[\"ISR\",3],[\"ITA\",557],[\"JAM\",44],[\"JOR\",7],[\"JPN\",77],[\"KEN\",1],[\"KOR\",65],[\"KVX\",29],[\"LTU\",0],[\"LUX\",5],[\"MAD\",5],[\"MAR\",111],[\"MEX\",12],[\"MKD\",2],[\"MLI\",47],[\"MLT\",9],[\"MNE\",9],[\"MOZ\",4],[\"MTQ\",5],[\"NL\",247],[\"NGA\",136],[\"NIR\",6],[\"NOR\",127],[\"NZL\",16],[\"PAN\",5],[\"PAR\",12],[\"PER\",4],[\"PHI\",0],[\"POL\",64],[\"PT\",204],[\"ROU\",10],[\"RSA\",11],[\"RUS\",27],[\"SCO\",63],[\"SEN\",86],[\"SLE\",0],[\"SRB\",71],[\"SUI\",74],[\"SUR\",6],[\"SVK\",17],[\"SVN\",21],[\"SWE\",83],[\"SYR\",0],[\"TOG\",19],[\"TUN\",10],[\"TUR\",41],[\"UKR\",71],[\"URU\",91],[\"USA\",94],[\"UZB\",6],[\"VEN\",13],[\"WAL\",34],[\"ZAM\",7],[\"ZIM\",9]],\"geo\":\"geo\",\"hovertemplate\":\"\\u003cb\\u003e%{hovertext}\\u003c\\u002fb\\u003e\\u003cbr\\u003e\\u003cbr\\u003eNation=%{customdata[0]}\\u003cbr\\u003eG+A=%{z}\\u003cextra\\u003e\\u003c\\u002fextra\\u003e\",\"hovertext\":[\"ALB\",\"ALG\",\"ANG\",\"ARG\",\"ARM\",\"AUS\",\"AUT\",\"BDI\",\"BEL\",\"BEN\",\"BFA\",\"BIH\",\"BRA\",\"BUL\",\"CAN\",\"CGO\",\"CHI\",\"CIV\",\"CMR\",\"COD\",\"COL\",\"COM\",\"CPV\",\"CRC\",\"CRO\",\"CTA\",\"CYP\",\"CZE\",\"DEN\",\"DOM\",\"ECU\",\"EGY\",\"EQG\",\"ESP\",\"FIN\",\"FRA\",\"GAB\",\"GAM\",\"GBR\",\"GEO\",\"DEU\",\"GHA\",\"GNB\",\"GRE\",\"GRN\",\"GUF\",\"GUI\",\"HAI\",\"HON\",\"HUN\",\"IRL\",\"IRN\",\"ISL\",\"ISR\",\"ITA\",\"JAM\",\"JOR\",\"JPN\",\"KEN\",\"KOR\",\"KVX\",\"LTU\",\"LUX\",\"MAD\",\"MAR\",\"MEX\",\"MKD\",\"MLI\",\"MLT\",\"MNE\",\"MOZ\",\"MTQ\",\"NL\",\"NGA\",\"NIR\",\"NOR\",\"NZL\",\"PAN\",\"PAR\",\"PER\",\"PHI\",\"POL\",\"PT\",\"ROU\",\"RSA\",\"RUS\",\"SCO\",\"SEN\",\"SLE\",\"SRB\",\"SUI\",\"SUR\",\"SVK\",\"SVN\",\"SWE\",\"SYR\",\"TOG\",\"TUN\",\"TUR\",\"UKR\",\"URU\",\"USA\",\"UZB\",\"VEN\",\"WAL\",\"ZAM\",\"ZIM\"],\"locations\":[\"ALB\",\"ALG\",\"ANG\",\"ARG\",\"ARM\",\"AUS\",\"AUT\",\"BDI\",\"BEL\",\"BEN\",\"BFA\",\"BIH\",\"BRA\",\"BUL\",\"CAN\",\"CGO\",\"CHI\",\"CIV\",\"CMR\",\"COD\",\"COL\",\"COM\",\"CPV\",\"CRC\",\"CRO\",\"CTA\",\"CYP\",\"CZE\",\"DEN\",\"DOM\",\"ECU\",\"EGY\",\"EQG\",\"ESP\",\"FIN\",\"FRA\",\"GAB\",\"GAM\",\"GBR\",\"GEO\",\"DEU\",\"GHA\",\"GNB\",\"GRE\",\"GRN\",\"GUF\",\"GUI\",\"HAI\",\"HON\",\"HUN\",\"IRL\",\"IRN\",\"ISL\",\"ISR\",\"ITA\",\"JAM\",\"JOR\",\"JPN\",\"KEN\",\"KOR\",\"KVX\",\"LTU\",\"LUX\",\"MAD\",\"MAR\",\"MEX\",\"MKD\",\"MLI\",\"MLT\",\"MNE\",\"MOZ\",\"MTQ\",\"NL\",\"NGA\",\"NIR\",\"NOR\",\"NZL\",\"PAN\",\"PAR\",\"PER\",\"PHI\",\"POL\",\"PT\",\"ROU\",\"RSA\",\"RUS\",\"SCO\",\"SEN\",\"SLE\",\"SRB\",\"SUI\",\"SUR\",\"SVK\",\"SVN\",\"SWE\",\"SYR\",\"TOG\",\"TUN\",\"TUR\",\"UKR\",\"URU\",\"USA\",\"UZB\",\"VEN\",\"WAL\",\"ZAM\",\"ZIM\"],\"name\":\"\",\"z\":[26,48,20,298,13,0,140,0,188,10,8,41,360,0,37,3,19,98,43,28,75,0,5,1,111,0,7,54,128,0,15,56,1,1048,6,907,35,5,763,34,827,92,9,21,2,2,50,0,3,17,32,4,24,3,557,44,7,77,1,65,29,0,5,5,111,12,2,47,9,9,4,5,247,136,6,127,16,5,12,4,0,64,204,10,11,27,63,86,0,71,74,6,17,21,83,0,19,10,41,71,91,94,6,13,34,7,9],\"type\":\"choropleth\"}],                        {\"template\":{\"data\":{\"histogram2dcontour\":[{\"type\":\"histogram2dcontour\",\"colorbar\":{\"outlinewidth\":0,\"ticks\":\"\"},\"colorscale\":[[0.0,\"#0d0887\"],[0.1111111111111111,\"#46039f\"],[0.2222222222222222,\"#7201a8\"],[0.3333333333333333,\"#9c179e\"],[0.4444444444444444,\"#bd3786\"],[0.5555555555555556,\"#d8576b\"],[0.6666666666666666,\"#ed7953\"],[0.7777777777777778,\"#fb9f3a\"],[0.8888888888888888,\"#fdca26\"],[1.0,\"#f0f921\"]]}],\"choropleth\":[{\"type\":\"choropleth\",\"colorbar\":{\"outlinewidth\":0,\"ticks\":\"\"}}],\"histogram2d\":[{\"type\":\"histogram2d\",\"colorbar\":{\"outlinewidth\":0,\"ticks\":\"\"},\"colorscale\":[[0.0,\"#0d0887\"],[0.1111111111111111,\"#46039f\"],[0.2222222222222222,\"#7201a8\"],[0.3333333333333333,\"#9c179e\"],[0.4444444444444444,\"#bd3786\"],[0.5555555555555556,\"#d8576b\"],[0.6666666666666666,\"#ed7953\"],[0.7777777777777778,\"#fb9f3a\"],[0.8888888888888888,\"#fdca26\"],[1.0,\"#f0f921\"]]}],\"heatmap\":[{\"type\":\"heatmap\",\"colorbar\":{\"outlinewidth\":0,\"ticks\":\"\"},\"colorscale\":[[0.0,\"#0d0887\"],[0.1111111111111111,\"#46039f\"],[0.2222222222222222,\"#7201a8\"],[0.3333333333333333,\"#9c179e\"],[0.4444444444444444,\"#bd3786\"],[0.5555555555555556,\"#d8576b\"],[0.6666666666666666,\"#ed7953\"],[0.7777777777777778,\"#fb9f3a\"],[0.8888888888888888,\"#fdca26\"],[1.0,\"#f0f921\"]]}],\"heatmapgl\":[{\"type\":\"heatmapgl\",\"colorbar\":{\"outlinewidth\":0,\"ticks\":\"\"},\"colorscale\":[[0.0,\"#0d0887\"],[0.1111111111111111,\"#46039f\"],[0.2222222222222222,\"#7201a8\"],[0.3333333333333333,\"#9c179e\"],[0.4444444444444444,\"#bd3786\"],[0.5555555555555556,\"#d8576b\"],[0.6666666666666666,\"#ed7953\"],[0.7777777777777778,\"#fb9f3a\"],[0.8888888888888888,\"#fdca26\"],[1.0,\"#f0f921\"]]}],\"contourcarpet\":[{\"type\":\"contourcarpet\",\"colorbar\":{\"outlinewidth\":0,\"ticks\":\"\"}}],\"contour\":[{\"type\":\"contour\",\"colorbar\":{\"outlinewidth\":0,\"ticks\":\"\"},\"colorscale\":[[0.0,\"#0d0887\"],[0.1111111111111111,\"#46039f\"],[0.2222222222222222,\"#7201a8\"],[0.3333333333333333,\"#9c179e\"],[0.4444444444444444,\"#bd3786\"],[0.5555555555555556,\"#d8576b\"],[0.6666666666666666,\"#ed7953\"],[0.7777777777777778,\"#fb9f3a\"],[0.8888888888888888,\"#fdca26\"],[1.0,\"#f0f921\"]]}],\"surface\":[{\"type\":\"surface\",\"colorbar\":{\"outlinewidth\":0,\"ticks\":\"\"},\"colorscale\":[[0.0,\"#0d0887\"],[0.1111111111111111,\"#46039f\"],[0.2222222222222222,\"#7201a8\"],[0.3333333333333333,\"#9c179e\"],[0.4444444444444444,\"#bd3786\"],[0.5555555555555556,\"#d8576b\"],[0.6666666666666666,\"#ed7953\"],[0.7777777777777778,\"#fb9f3a\"],[0.8888888888888888,\"#fdca26\"],[1.0,\"#f0f921\"]]}],\"mesh3d\":[{\"type\":\"mesh3d\",\"colorbar\":{\"outlinewidth\":0,\"ticks\":\"\"}}],\"scatter\":[{\"fillpattern\":{\"fillmode\":\"overlay\",\"size\":10,\"solidity\":0.2},\"type\":\"scatter\"}],\"parcoords\":[{\"type\":\"parcoords\",\"line\":{\"colorbar\":{\"outlinewidth\":0,\"ticks\":\"\"}}}],\"scatterpolargl\":[{\"type\":\"scatterpolargl\",\"marker\":{\"colorbar\":{\"outlinewidth\":0,\"ticks\":\"\"}}}],\"bar\":[{\"error_x\":{\"color\":\"#2a3f5f\"},\"error_y\":{\"color\":\"#2a3f5f\"},\"marker\":{\"line\":{\"color\":\"#E5ECF6\",\"width\":0.5},\"pattern\":{\"fillmode\":\"overlay\",\"size\":10,\"solidity\":0.2}},\"type\":\"bar\"}],\"scattergeo\":[{\"type\":\"scattergeo\",\"marker\":{\"colorbar\":{\"outlinewidth\":0,\"ticks\":\"\"}}}],\"scatterpolar\":[{\"type\":\"scatterpolar\",\"marker\":{\"colorbar\":{\"outlinewidth\":0,\"ticks\":\"\"}}}],\"histogram\":[{\"marker\":{\"pattern\":{\"fillmode\":\"overlay\",\"size\":10,\"solidity\":0.2}},\"type\":\"histogram\"}],\"scattergl\":[{\"type\":\"scattergl\",\"marker\":{\"colorbar\":{\"outlinewidth\":0,\"ticks\":\"\"}}}],\"scatter3d\":[{\"type\":\"scatter3d\",\"line\":{\"colorbar\":{\"outlinewidth\":0,\"ticks\":\"\"}},\"marker\":{\"colorbar\":{\"outlinewidth\":0,\"ticks\":\"\"}}}],\"scattermapbox\":[{\"type\":\"scattermapbox\",\"marker\":{\"colorbar\":{\"outlinewidth\":0,\"ticks\":\"\"}}}],\"scatterternary\":[{\"type\":\"scatterternary\",\"marker\":{\"colorbar\":{\"outlinewidth\":0,\"ticks\":\"\"}}}],\"scattercarpet\":[{\"type\":\"scattercarpet\",\"marker\":{\"colorbar\":{\"outlinewidth\":0,\"ticks\":\"\"}}}],\"carpet\":[{\"aaxis\":{\"endlinecolor\":\"#2a3f5f\",\"gridcolor\":\"white\",\"linecolor\":\"white\",\"minorgridcolor\":\"white\",\"startlinecolor\":\"#2a3f5f\"},\"baxis\":{\"endlinecolor\":\"#2a3f5f\",\"gridcolor\":\"white\",\"linecolor\":\"white\",\"minorgridcolor\":\"white\",\"startlinecolor\":\"#2a3f5f\"},\"type\":\"carpet\"}],\"table\":[{\"cells\":{\"fill\":{\"color\":\"#EBF0F8\"},\"line\":{\"color\":\"white\"}},\"header\":{\"fill\":{\"color\":\"#C8D4E3\"},\"line\":{\"color\":\"white\"}},\"type\":\"table\"}],\"barpolar\":[{\"marker\":{\"line\":{\"color\":\"#E5ECF6\",\"width\":0.5},\"pattern\":{\"fillmode\":\"overlay\",\"size\":10,\"solidity\":0.2}},\"type\":\"barpolar\"}],\"pie\":[{\"automargin\":true,\"type\":\"pie\"}]},\"layout\":{\"autotypenumbers\":\"strict\",\"colorway\":[\"#636efa\",\"#EF553B\",\"#00cc96\",\"#ab63fa\",\"#FFA15A\",\"#19d3f3\",\"#FF6692\",\"#B6E880\",\"#FF97FF\",\"#FECB52\"],\"font\":{\"color\":\"#2a3f5f\"},\"hovermode\":\"closest\",\"hoverlabel\":{\"align\":\"left\"},\"paper_bgcolor\":\"white\",\"plot_bgcolor\":\"#E5ECF6\",\"polar\":{\"bgcolor\":\"#E5ECF6\",\"angularaxis\":{\"gridcolor\":\"white\",\"linecolor\":\"white\",\"ticks\":\"\"},\"radialaxis\":{\"gridcolor\":\"white\",\"linecolor\":\"white\",\"ticks\":\"\"}},\"ternary\":{\"bgcolor\":\"#E5ECF6\",\"aaxis\":{\"gridcolor\":\"white\",\"linecolor\":\"white\",\"ticks\":\"\"},\"baxis\":{\"gridcolor\":\"white\",\"linecolor\":\"white\",\"ticks\":\"\"},\"caxis\":{\"gridcolor\":\"white\",\"linecolor\":\"white\",\"ticks\":\"\"}},\"coloraxis\":{\"colorbar\":{\"outlinewidth\":0,\"ticks\":\"\"}},\"colorscale\":{\"sequential\":[[0.0,\"#0d0887\"],[0.1111111111111111,\"#46039f\"],[0.2222222222222222,\"#7201a8\"],[0.3333333333333333,\"#9c179e\"],[0.4444444444444444,\"#bd3786\"],[0.5555555555555556,\"#d8576b\"],[0.6666666666666666,\"#ed7953\"],[0.7777777777777778,\"#fb9f3a\"],[0.8888888888888888,\"#fdca26\"],[1.0,\"#f0f921\"]],\"sequentialminus\":[[0.0,\"#0d0887\"],[0.1111111111111111,\"#46039f\"],[0.2222222222222222,\"#7201a8\"],[0.3333333333333333,\"#9c179e\"],[0.4444444444444444,\"#bd3786\"],[0.5555555555555556,\"#d8576b\"],[0.6666666666666666,\"#ed7953\"],[0.7777777777777778,\"#fb9f3a\"],[0.8888888888888888,\"#fdca26\"],[1.0,\"#f0f921\"]],\"diverging\":[[0,\"#8e0152\"],[0.1,\"#c51b7d\"],[0.2,\"#de77ae\"],[0.3,\"#f1b6da\"],[0.4,\"#fde0ef\"],[0.5,\"#f7f7f7\"],[0.6,\"#e6f5d0\"],[0.7,\"#b8e186\"],[0.8,\"#7fbc41\"],[0.9,\"#4d9221\"],[1,\"#276419\"]]},\"xaxis\":{\"gridcolor\":\"white\",\"linecolor\":\"white\",\"ticks\":\"\",\"title\":{\"standoff\":15},\"zerolinecolor\":\"white\",\"automargin\":true,\"zerolinewidth\":2},\"yaxis\":{\"gridcolor\":\"white\",\"linecolor\":\"white\",\"ticks\":\"\",\"title\":{\"standoff\":15},\"zerolinecolor\":\"white\",\"automargin\":true,\"zerolinewidth\":2},\"scene\":{\"xaxis\":{\"backgroundcolor\":\"#E5ECF6\",\"gridcolor\":\"white\",\"linecolor\":\"white\",\"showbackground\":true,\"ticks\":\"\",\"zerolinecolor\":\"white\",\"gridwidth\":2},\"yaxis\":{\"backgroundcolor\":\"#E5ECF6\",\"gridcolor\":\"white\",\"linecolor\":\"white\",\"showbackground\":true,\"ticks\":\"\",\"zerolinecolor\":\"white\",\"gridwidth\":2},\"zaxis\":{\"backgroundcolor\":\"#E5ECF6\",\"gridcolor\":\"white\",\"linecolor\":\"white\",\"showbackground\":true,\"ticks\":\"\",\"zerolinecolor\":\"white\",\"gridwidth\":2}},\"shapedefaults\":{\"line\":{\"color\":\"#2a3f5f\"}},\"annotationdefaults\":{\"arrowcolor\":\"#2a3f5f\",\"arrowhead\":0,\"arrowwidth\":1},\"geo\":{\"bgcolor\":\"white\",\"landcolor\":\"#E5ECF6\",\"subunitcolor\":\"white\",\"showland\":true,\"showlakes\":true,\"lakecolor\":\"white\"},\"title\":{\"x\":0.05},\"mapbox\":{\"style\":\"light\"}}},\"geo\":{\"domain\":{\"x\":[0.0,1.0],\"y\":[0.0,1.0]},\"center\":{},\"showcoastlines\":true,\"coastlinecolor\":\"Black\"},\"coloraxis\":{\"colorbar\":{\"title\":{\"text\":\"G+A\"}},\"colorscale\":[[0.0,\"#0d0887\"],[0.1111111111111111,\"#46039f\"],[0.2222222222222222,\"#7201a8\"],[0.3333333333333333,\"#9c179e\"],[0.4444444444444444,\"#bd3786\"],[0.5555555555555556,\"#d8576b\"],[0.6666666666666666,\"#ed7953\"],[0.7777777777777778,\"#fb9f3a\"],[0.8888888888888888,\"#fdca26\"],[1.0,\"#f0f921\"]]},\"legend\":{\"tracegroupgap\":0},\"margin\":{\"t\":60},\"title\":{\"text\":\"G+A Global Map\"}},                        {\"responsive\": true}                    ).then(function(){\n",
       "                            \n",
       "var gd = document.getElementById('fb907e06-041f-42b6-80a1-5bf27d4aca8e');\n",
       "var x = new MutationObserver(function (mutations, observer) {{\n",
       "        var display = window.getComputedStyle(gd).display;\n",
       "        if (!display || display === 'none') {{\n",
       "            console.log([gd, 'removed!']);\n",
       "            Plotly.purge(gd);\n",
       "            observer.disconnect();\n",
       "        }}\n",
       "}});\n",
       "\n",
       "// Listen for the removal of the full notebook cells\n",
       "var notebookContainer = gd.closest('#notebook-container');\n",
       "if (notebookContainer) {{\n",
       "    x.observe(notebookContainer, {childList: true});\n",
       "}}\n",
       "\n",
       "// Listen for the clearing of the current output cell\n",
       "var outputEl = gd.closest('.output');\n",
       "if (outputEl) {{\n",
       "    x.observe(outputEl, {childList: true});\n",
       "}}\n",
       "\n",
       "                        })                };                });            </script>        </div>"
      ]
     },
     "metadata": {},
     "output_type": "display_data"
    }
   ],
   "source": [
    "asd[\"Nation\"] = asd[\"Nation\"].replace(\"GB\", \"GBR\")\n",
    "asd[\"Nation\"] = asd[\"Nation\"].replace(\"GER\", \"DEU\")\n",
    "asd[\"Nation\"] = asd[\"Nation\"].replace(\"POR\", \"PR\")\n",
    "asd[\"Nation\"] = asd[\"Nation\"].replace(\"NED\", \"NL\")\n",
    "fig = px.choropleth(\n",
    "    asd,  # Pass the entire DataFrame\n",
    "    locations=\"Nation\",  # Locations column (country codes)\n",
    "    color=\"G+A\",  # Values to color the countries by\n",
    "    hover_name=\"Nation\",  # Country names to show when hovering\n",
    "    hover_data={\"Nation\": True, \"G+A\": True},  # Additional data to show in hover (e.g., G+A)\n",
    ")\n",
    "\n",
    "fig.update_geos(showcoastlines=True, coastlinecolor=\"Black\")  # Optional: Show coastlines for clarity\n",
    "fig.update_layout(title_text=\"G+A Global Map\")\n",
    "\n",
    "# Save the map as an HTML file\n",
    "fig.write_html(\"map.html\")\n",
    "fig.show()"
   ]
  },
  {
   "cell_type": "code",
   "execution_count": 163,
   "id": "1a272687-7067-485d-b1f3-0ebab4db12ce",
   "metadata": {},
   "outputs": [
    {
     "data": {
      "text/plain": [
       "array(['ALB', 'ALG', 'ANG', 'ARG', 'ARM', 'AUS', 'AUT', 'BDI', 'BEL',\n",
       "       'BEN', 'BFA', 'BIH', 'BRA', 'BUL', 'CAN', 'CGO', 'CHI', 'CIV',\n",
       "       'CMR', 'COD', 'COL', 'COM', 'CPV', 'CRC', 'CRO', 'CTA', 'CYP',\n",
       "       'CZE', 'DEN', 'DOM', 'ECU', 'EGY', 'EQG', 'ESP', 'FIN', 'FRA',\n",
       "       'GAB', 'GAM', 'GB', 'GEO', 'DEU', 'GHA', 'GNB', 'GRE', 'GRN',\n",
       "       'GUF', 'GUI', 'HAI', 'HON', 'HUN', 'IRL', 'IRN', 'ISL', 'ISR',\n",
       "       'ITA', 'JAM', 'JOR', 'JPN', 'KEN', 'KOR', 'KVX', 'LTU', 'LUX',\n",
       "       'MAD', 'MAR', 'MEX', 'MKD', 'MLI', 'MLT', 'MNE', 'MOZ', 'MTQ',\n",
       "       'NED', 'NGA', 'NIR', 'NOR', 'NZL', 'PAN', 'PAR', 'PER', 'PHI',\n",
       "       'POL', 'PT', 'ROU', 'RSA', 'RUS', 'SCO', 'SEN', 'SLE', 'SRB',\n",
       "       'SUI', 'SUR', 'SVK', 'SVN', 'SWE', 'SYR', 'TOG', 'TUN', 'TUR',\n",
       "       'UKR', 'URU', 'USA', 'UZB', 'VEN', 'WAL', 'ZAM', 'ZIM'],\n",
       "      dtype=object)"
      ]
     },
     "execution_count": 163,
     "metadata": {},
     "output_type": "execute_result"
    }
   ],
   "source": [
    "asd[\"Nation\"].unique()"
   ]
  },
  {
   "cell_type": "code",
   "execution_count": 184,
   "id": "f342409c-b8ce-48aa-b29d-770b9f8d3e49",
   "metadata": {},
   "outputs": [],
   "source": [
    "team = df.groupby([\"Squad\", \"Comp\"])[[\"PrgP\", \"Gls\"]].sum().reset_index()"
   ]
  },
  {
   "cell_type": "code",
   "execution_count": 185,
   "id": "4e2988d9-5451-4f35-b508-ee180f0e7cd6",
   "metadata": {},
   "outputs": [],
   "source": [
    "team.to_csv(\"team.csv\")"
   ]
  },
  {
   "cell_type": "code",
   "execution_count": 186,
   "id": "126dab5f-51af-4807-8a4b-f43f0c103814",
   "metadata": {},
   "outputs": [
    {
     "data": {
      "image/png": "[encoded data removed]",
      "text/plain": [
       "<Figure size 1000x400 with 1 Axes>"
      ]
     },
     "metadata": {},
     "output_type": "display_data"
    }
   ],
   "source": [
    "# residuals vs stop count\n",
    "py.figure(figsize=(10, 4))\n",
    "py.scatter(team[\"PrgP\"], team[\"Gls\"])\n",
    "py.xlabel('Stop Count')\n",
    "py.ylabel('Residuals')\n",
    "py.title('Residuals vs Stop Count')\n",
    "py.show()"
   ]
  },
  {
   "cell_type": "code",
   "execution_count": 187,
   "id": "324548ca-ae2b-4bf6-be09-5acc316cb890",
   "metadata": {},
   "outputs": [
    {
     "data": {
      "text/html": [
       "<div>\n",
       "<style scoped>\n",
       "    .dataframe tbody tr th:only-of-type {\n",
       "        vertical-align: middle;\n",
       "    }\n",
       "\n",
       "    .dataframe tbody tr th {\n",
       "        vertical-align: top;\n",
       "    }\n",
       "\n",
       "    .dataframe thead th {\n",
       "        text-align: right;\n",
       "    }\n",
       "</style>\n",
       "<table border=\"1\" class=\"dataframe\">\n",
       "  <thead>\n",
       "    <tr style=\"text-align: right;\">\n",
       "      <th></th>\n",
       "      <th>Squad</th>\n",
       "      <th>Comp</th>\n",
       "      <th>PrgP</th>\n",
       "      <th>Gls</th>\n",
       "    </tr>\n",
       "  </thead>\n",
       "  <tbody>\n",
       "    <tr>\n",
       "      <th>0</th>\n",
       "      <td>Alavés</td>\n",
       "      <td>es La Liga</td>\n",
       "      <td>1260.0</td>\n",
       "      <td>33</td>\n",
       "    </tr>\n",
       "    <tr>\n",
       "      <th>1</th>\n",
       "      <td>Almería</td>\n",
       "      <td>es La Liga</td>\n",
       "      <td>1097.0</td>\n",
       "      <td>42</td>\n",
       "    </tr>\n",
       "    <tr>\n",
       "      <th>2</th>\n",
       "      <td>Arsenal</td>\n",
       "      <td>eng Premier League</td>\n",
       "      <td>2106.0</td>\n",
       "      <td>86</td>\n",
       "    </tr>\n",
       "    <tr>\n",
       "      <th>3</th>\n",
       "      <td>Aston Villa</td>\n",
       "      <td>eng Premier League</td>\n",
       "      <td>1451.0</td>\n",
       "      <td>72</td>\n",
       "    </tr>\n",
       "    <tr>\n",
       "      <th>4</th>\n",
       "      <td>Atalanta</td>\n",
       "      <td>it Serie A</td>\n",
       "      <td>1754.0</td>\n",
       "      <td>72</td>\n",
       "    </tr>\n",
       "    <tr>\n",
       "      <th>...</th>\n",
       "      <td>...</td>\n",
       "      <td>...</td>\n",
       "      <td>...</td>\n",
       "      <td>...</td>\n",
       "    </tr>\n",
       "    <tr>\n",
       "      <th>91</th>\n",
       "      <td>Villarreal</td>\n",
       "      <td>es La Liga</td>\n",
       "      <td>1558.0</td>\n",
       "      <td>64</td>\n",
       "    </tr>\n",
       "    <tr>\n",
       "      <th>92</th>\n",
       "      <td>Werder Bremen</td>\n",
       "      <td>de Bundesliga</td>\n",
       "      <td>1172.0</td>\n",
       "      <td>45</td>\n",
       "    </tr>\n",
       "    <tr>\n",
       "      <th>93</th>\n",
       "      <td>West Ham</td>\n",
       "      <td>eng Premier League</td>\n",
       "      <td>1207.0</td>\n",
       "      <td>58</td>\n",
       "    </tr>\n",
       "    <tr>\n",
       "      <th>94</th>\n",
       "      <td>Wolfsburg</td>\n",
       "      <td>de Bundesliga</td>\n",
       "      <td>1235.0</td>\n",
       "      <td>41</td>\n",
       "    </tr>\n",
       "    <tr>\n",
       "      <th>95</th>\n",
       "      <td>Wolves</td>\n",
       "      <td>eng Premier League</td>\n",
       "      <td>1180.0</td>\n",
       "      <td>47</td>\n",
       "    </tr>\n",
       "  </tbody>\n",
       "</table>\n",
       "<p>96 rows × 4 columns</p>\n",
       "</div>"
      ],
      "text/plain": [
       "            Squad                Comp    PrgP  Gls\n",
       "0          Alavés          es La Liga  1260.0   33\n",
       "1         Almería          es La Liga  1097.0   42\n",
       "2         Arsenal  eng Premier League  2106.0   86\n",
       "3     Aston Villa  eng Premier League  1451.0   72\n",
       "4        Atalanta          it Serie A  1754.0   72\n",
       "..            ...                 ...     ...  ...\n",
       "91     Villarreal          es La Liga  1558.0   64\n",
       "92  Werder Bremen       de Bundesliga  1172.0   45\n",
       "93       West Ham  eng Premier League  1207.0   58\n",
       "94      Wolfsburg       de Bundesliga  1235.0   41\n",
       "95         Wolves  eng Premier League  1180.0   47\n",
       "\n",
       "[96 rows x 4 columns]"
      ]
     },
     "execution_count": 187,
     "metadata": {},
     "output_type": "execute_result"
    }
   ],
   "source": [
    "team"
   ]
  },
  {
   "cell_type": "code",
   "execution_count": 188,
   "id": "0378d349-ceca-49ff-bb6e-efb8c0faf940",
   "metadata": {},
   "outputs": [
    {
     "data": {
      "text/html": [
       "<div>\n",
       "<style scoped>\n",
       "    .dataframe tbody tr th:only-of-type {\n",
       "        vertical-align: middle;\n",
       "    }\n",
       "\n",
       "    .dataframe tbody tr th {\n",
       "        vertical-align: top;\n",
       "    }\n",
       "\n",
       "    .dataframe thead th {\n",
       "        text-align: right;\n",
       "    }\n",
       "</style>\n",
       "<table border=\"1\" class=\"dataframe\">\n",
       "  <thead>\n",
       "    <tr style=\"text-align: right;\">\n",
       "      <th></th>\n",
       "      <th>Squad</th>\n",
       "      <th>Comp</th>\n",
       "      <th>PrgP</th>\n",
       "      <th>Gls</th>\n",
       "    </tr>\n",
       "  </thead>\n",
       "  <tbody>\n",
       "    <tr>\n",
       "      <th>0</th>\n",
       "      <td>Alavés</td>\n",
       "      <td>es La Liga</td>\n",
       "      <td>1260.0</td>\n",
       "      <td>33</td>\n",
       "    </tr>\n",
       "    <tr>\n",
       "      <th>1</th>\n",
       "      <td>Almería</td>\n",
       "      <td>es La Liga</td>\n",
       "      <td>1097.0</td>\n",
       "      <td>42</td>\n",
       "    </tr>\n",
       "    <tr>\n",
       "      <th>2</th>\n",
       "      <td>Arsenal</td>\n",
       "      <td>eng Premier League</td>\n",
       "      <td>2106.0</td>\n",
       "      <td>86</td>\n",
       "    </tr>\n",
       "    <tr>\n",
       "      <th>3</th>\n",
       "      <td>Aston Villa</td>\n",
       "      <td>eng Premier League</td>\n",
       "      <td>1451.0</td>\n",
       "      <td>72</td>\n",
       "    </tr>\n",
       "    <tr>\n",
       "      <th>4</th>\n",
       "      <td>Atalanta</td>\n",
       "      <td>it Serie A</td>\n",
       "      <td>1754.0</td>\n",
       "      <td>72</td>\n",
       "    </tr>\n",
       "    <tr>\n",
       "      <th>5</th>\n",
       "      <td>Athletic Club</td>\n",
       "      <td>es La Liga</td>\n",
       "      <td>1610.0</td>\n",
       "      <td>59</td>\n",
       "    </tr>\n",
       "    <tr>\n",
       "      <th>6</th>\n",
       "      <td>Atlético Madrid</td>\n",
       "      <td>es La Liga</td>\n",
       "      <td>1597.0</td>\n",
       "      <td>68</td>\n",
       "    </tr>\n",
       "    <tr>\n",
       "      <th>7</th>\n",
       "      <td>Augsburg</td>\n",
       "      <td>de Bundesliga</td>\n",
       "      <td>1137.0</td>\n",
       "      <td>49</td>\n",
       "    </tr>\n",
       "    <tr>\n",
       "      <th>8</th>\n",
       "      <td>Barcelona</td>\n",
       "      <td>es La Liga</td>\n",
       "      <td>1925.0</td>\n",
       "      <td>76</td>\n",
       "    </tr>\n",
       "    <tr>\n",
       "      <th>9</th>\n",
       "      <td>Bayern Munich</td>\n",
       "      <td>de Bundesliga</td>\n",
       "      <td>1941.0</td>\n",
       "      <td>93</td>\n",
       "    </tr>\n",
       "    <tr>\n",
       "      <th>10</th>\n",
       "      <td>Betis</td>\n",
       "      <td>es La Liga</td>\n",
       "      <td>1441.0</td>\n",
       "      <td>46</td>\n",
       "    </tr>\n",
       "    <tr>\n",
       "      <th>11</th>\n",
       "      <td>Bochum</td>\n",
       "      <td>de Bundesliga</td>\n",
       "      <td>1151.0</td>\n",
       "      <td>41</td>\n",
       "    </tr>\n",
       "    <tr>\n",
       "      <th>12</th>\n",
       "      <td>Bologna</td>\n",
       "      <td>it Serie A</td>\n",
       "      <td>1453.0</td>\n",
       "      <td>52</td>\n",
       "    </tr>\n",
       "    <tr>\n",
       "      <th>13</th>\n",
       "      <td>Bournemouth</td>\n",
       "      <td>eng Premier League</td>\n",
       "      <td>1314.0</td>\n",
       "      <td>52</td>\n",
       "    </tr>\n",
       "    <tr>\n",
       "      <th>14</th>\n",
       "      <td>Brentford</td>\n",
       "      <td>eng Premier League</td>\n",
       "      <td>1283.0</td>\n",
       "      <td>54</td>\n",
       "    </tr>\n",
       "    <tr>\n",
       "      <th>15</th>\n",
       "      <td>Brest</td>\n",
       "      <td>fr Ligue 1</td>\n",
       "      <td>1402.0</td>\n",
       "      <td>51</td>\n",
       "    </tr>\n",
       "    <tr>\n",
       "      <th>16</th>\n",
       "      <td>Brighton</td>\n",
       "      <td>eng Premier League</td>\n",
       "      <td>1780.0</td>\n",
       "      <td>50</td>\n",
       "    </tr>\n",
       "    <tr>\n",
       "      <th>17</th>\n",
       "      <td>Burnley</td>\n",
       "      <td>eng Premier League</td>\n",
       "      <td>1181.0</td>\n",
       "      <td>40</td>\n",
       "    </tr>\n",
       "    <tr>\n",
       "      <th>18</th>\n",
       "      <td>Cagliari</td>\n",
       "      <td>it Serie A</td>\n",
       "      <td>1109.0</td>\n",
       "      <td>41</td>\n",
       "    </tr>\n",
       "    <tr>\n",
       "      <th>19</th>\n",
       "      <td>Celta Vigo</td>\n",
       "      <td>es La Liga</td>\n",
       "      <td>1345.0</td>\n",
       "      <td>45</td>\n",
       "    </tr>\n",
       "    <tr>\n",
       "      <th>20</th>\n",
       "      <td>Chelsea</td>\n",
       "      <td>eng Premier League</td>\n",
       "      <td>1615.0</td>\n",
       "      <td>76</td>\n",
       "    </tr>\n",
       "    <tr>\n",
       "      <th>21</th>\n",
       "      <td>Clermont Foot</td>\n",
       "      <td>fr Ligue 1</td>\n",
       "      <td>1247.0</td>\n",
       "      <td>26</td>\n",
       "    </tr>\n",
       "    <tr>\n",
       "      <th>22</th>\n",
       "      <td>Crystal Palace</td>\n",
       "      <td>eng Premier League</td>\n",
       "      <td>1176.0</td>\n",
       "      <td>56</td>\n",
       "    </tr>\n",
       "    <tr>\n",
       "      <th>23</th>\n",
       "      <td>Cádiz</td>\n",
       "      <td>es La Liga</td>\n",
       "      <td>1017.0</td>\n",
       "      <td>25</td>\n",
       "    </tr>\n",
       "    <tr>\n",
       "      <th>24</th>\n",
       "      <td>Darmstadt 98</td>\n",
       "      <td>de Bundesliga</td>\n",
       "      <td>1083.0</td>\n",
       "      <td>28</td>\n",
       "    </tr>\n",
       "    <tr>\n",
       "      <th>25</th>\n",
       "      <td>Dortmund</td>\n",
       "      <td>de Bundesliga</td>\n",
       "      <td>1452.0</td>\n",
       "      <td>68</td>\n",
       "    </tr>\n",
       "    <tr>\n",
       "      <th>26</th>\n",
       "      <td>Eint Frankfurt</td>\n",
       "      <td>de Bundesliga</td>\n",
       "      <td>1305.0</td>\n",
       "      <td>48</td>\n",
       "    </tr>\n",
       "    <tr>\n",
       "      <th>27</th>\n",
       "      <td>Empoli</td>\n",
       "      <td>it Serie A</td>\n",
       "      <td>1056.0</td>\n",
       "      <td>26</td>\n",
       "    </tr>\n",
       "    <tr>\n",
       "      <th>28</th>\n",
       "      <td>Everton</td>\n",
       "      <td>eng Premier League</td>\n",
       "      <td>1129.0</td>\n",
       "      <td>40</td>\n",
       "    </tr>\n",
       "    <tr>\n",
       "      <th>29</th>\n",
       "      <td>Fiorentina</td>\n",
       "      <td>it Serie A</td>\n",
       "      <td>1656.0</td>\n",
       "      <td>60</td>\n",
       "    </tr>\n",
       "    <tr>\n",
       "      <th>30</th>\n",
       "      <td>Freiburg</td>\n",
       "      <td>de Bundesliga</td>\n",
       "      <td>1208.0</td>\n",
       "      <td>43</td>\n",
       "    </tr>\n",
       "    <tr>\n",
       "      <th>31</th>\n",
       "      <td>Frosinone</td>\n",
       "      <td>it Serie A</td>\n",
       "      <td>1326.0</td>\n",
       "      <td>44</td>\n",
       "    </tr>\n",
       "    <tr>\n",
       "      <th>32</th>\n",
       "      <td>Fulham</td>\n",
       "      <td>eng Premier League</td>\n",
       "      <td>1467.0</td>\n",
       "      <td>54</td>\n",
       "    </tr>\n",
       "    <tr>\n",
       "      <th>33</th>\n",
       "      <td>Genoa</td>\n",
       "      <td>it Serie A</td>\n",
       "      <td>1079.0</td>\n",
       "      <td>43</td>\n",
       "    </tr>\n",
       "    <tr>\n",
       "      <th>34</th>\n",
       "      <td>Getafe</td>\n",
       "      <td>es La Liga</td>\n",
       "      <td>1141.0</td>\n",
       "      <td>42</td>\n",
       "    </tr>\n",
       "    <tr>\n",
       "      <th>35</th>\n",
       "      <td>Girona</td>\n",
       "      <td>es La Liga</td>\n",
       "      <td>1685.0</td>\n",
       "      <td>84</td>\n",
       "    </tr>\n",
       "    <tr>\n",
       "      <th>36</th>\n",
       "      <td>Gladbach</td>\n",
       "      <td>de Bundesliga</td>\n",
       "      <td>1227.0</td>\n",
       "      <td>55</td>\n",
       "    </tr>\n",
       "    <tr>\n",
       "      <th>37</th>\n",
       "      <td>Granada</td>\n",
       "      <td>es La Liga</td>\n",
       "      <td>1044.0</td>\n",
       "      <td>35</td>\n",
       "    </tr>\n",
       "    <tr>\n",
       "      <th>38</th>\n",
       "      <td>Heidenheim</td>\n",
       "      <td>de Bundesliga</td>\n",
       "      <td>983.0</td>\n",
       "      <td>46</td>\n",
       "    </tr>\n",
       "    <tr>\n",
       "      <th>39</th>\n",
       "      <td>Hellas Verona</td>\n",
       "      <td>it Serie A</td>\n",
       "      <td>1122.0</td>\n",
       "      <td>38</td>\n",
       "    </tr>\n",
       "    <tr>\n",
       "      <th>40</th>\n",
       "      <td>Hoffenheim</td>\n",
       "      <td>de Bundesliga</td>\n",
       "      <td>1359.0</td>\n",
       "      <td>65</td>\n",
       "    </tr>\n",
       "    <tr>\n",
       "      <th>41</th>\n",
       "      <td>Inter</td>\n",
       "      <td>it Serie A</td>\n",
       "      <td>1620.0</td>\n",
       "      <td>87</td>\n",
       "    </tr>\n",
       "    <tr>\n",
       "      <th>42</th>\n",
       "      <td>Juventus</td>\n",
       "      <td>it Serie A</td>\n",
       "      <td>1473.0</td>\n",
       "      <td>52</td>\n",
       "    </tr>\n",
       "    <tr>\n",
       "      <th>43</th>\n",
       "      <td>Köln</td>\n",
       "      <td>de Bundesliga</td>\n",
       "      <td>1086.0</td>\n",
       "      <td>28</td>\n",
       "    </tr>\n",
       "    <tr>\n",
       "      <th>44</th>\n",
       "      <td>Las Palmas</td>\n",
       "      <td>es La Liga</td>\n",
       "      <td>1596.0</td>\n",
       "      <td>33</td>\n",
       "    </tr>\n",
       "    <tr>\n",
       "      <th>45</th>\n",
       "      <td>Lazio</td>\n",
       "      <td>it Serie A</td>\n",
       "      <td>1528.0</td>\n",
       "      <td>46</td>\n",
       "    </tr>\n",
       "    <tr>\n",
       "      <th>46</th>\n",
       "      <td>Le Havre</td>\n",
       "      <td>fr Ligue 1</td>\n",
       "      <td>1199.0</td>\n",
       "      <td>33</td>\n",
       "    </tr>\n",
       "    <tr>\n",
       "      <th>47</th>\n",
       "      <td>Lecce</td>\n",
       "      <td>it Serie A</td>\n",
       "      <td>1183.0</td>\n",
       "      <td>30</td>\n",
       "    </tr>\n",
       "    <tr>\n",
       "      <th>48</th>\n",
       "      <td>Lens</td>\n",
       "      <td>fr Ligue 1</td>\n",
       "      <td>1624.0</td>\n",
       "      <td>45</td>\n",
       "    </tr>\n",
       "    <tr>\n",
       "      <th>49</th>\n",
       "      <td>Leverkusen</td>\n",
       "      <td>de Bundesliga</td>\n",
       "      <td>1997.0</td>\n",
       "      <td>87</td>\n",
       "    </tr>\n",
       "  </tbody>\n",
       "</table>\n",
       "</div>"
      ],
      "text/plain": [
       "              Squad                Comp    PrgP  Gls\n",
       "0            Alavés          es La Liga  1260.0   33\n",
       "1           Almería          es La Liga  1097.0   42\n",
       "2           Arsenal  eng Premier League  2106.0   86\n",
       "3       Aston Villa  eng Premier League  1451.0   72\n",
       "4          Atalanta          it Serie A  1754.0   72\n",
       "5     Athletic Club          es La Liga  1610.0   59\n",
       "6   Atlético Madrid          es La Liga  1597.0   68\n",
       "7          Augsburg       de Bundesliga  1137.0   49\n",
       "8         Barcelona          es La Liga  1925.0   76\n",
       "9     Bayern Munich       de Bundesliga  1941.0   93\n",
       "10            Betis          es La Liga  1441.0   46\n",
       "11           Bochum       de Bundesliga  1151.0   41\n",
       "12          Bologna          it Serie A  1453.0   52\n",
       "13      Bournemouth  eng Premier League  1314.0   52\n",
       "14        Brentford  eng Premier League  1283.0   54\n",
       "15            Brest          fr Ligue 1  1402.0   51\n",
       "16         Brighton  eng Premier League  1780.0   50\n",
       "17          Burnley  eng Premier League  1181.0   40\n",
       "18         Cagliari          it Serie A  1109.0   41\n",
       "19       Celta Vigo          es La Liga  1345.0   45\n",
       "20          Chelsea  eng Premier League  1615.0   76\n",
       "21    Clermont Foot          fr Ligue 1  1247.0   26\n",
       "22   Crystal Palace  eng Premier League  1176.0   56\n",
       "23            Cádiz          es La Liga  1017.0   25\n",
       "24     Darmstadt 98       de Bundesliga  1083.0   28\n",
       "25         Dortmund       de Bundesliga  1452.0   68\n",
       "26   Eint Frankfurt       de Bundesliga  1305.0   48\n",
       "27           Empoli          it Serie A  1056.0   26\n",
       "28          Everton  eng Premier League  1129.0   40\n",
       "29       Fiorentina          it Serie A  1656.0   60\n",
       "30         Freiburg       de Bundesliga  1208.0   43\n",
       "31        Frosinone          it Serie A  1326.0   44\n",
       "32           Fulham  eng Premier League  1467.0   54\n",
       "33            Genoa          it Serie A  1079.0   43\n",
       "34           Getafe          es La Liga  1141.0   42\n",
       "35           Girona          es La Liga  1685.0   84\n",
       "36         Gladbach       de Bundesliga  1227.0   55\n",
       "37          Granada          es La Liga  1044.0   35\n",
       "38       Heidenheim       de Bundesliga   983.0   46\n",
       "39    Hellas Verona          it Serie A  1122.0   38\n",
       "40       Hoffenheim       de Bundesliga  1359.0   65\n",
       "41            Inter          it Serie A  1620.0   87\n",
       "42         Juventus          it Serie A  1473.0   52\n",
       "43             Köln       de Bundesliga  1086.0   28\n",
       "44       Las Palmas          es La Liga  1596.0   33\n",
       "45            Lazio          it Serie A  1528.0   46\n",
       "46         Le Havre          fr Ligue 1  1199.0   33\n",
       "47            Lecce          it Serie A  1183.0   30\n",
       "48             Lens          fr Ligue 1  1624.0   45\n",
       "49       Leverkusen       de Bundesliga  1997.0   87"
      ]
     },
     "execution_count": 188,
     "metadata": {},
     "output_type": "execute_result"
    }
   ],
   "source": [
    "team[0:50]"
   ]
  },
  {
   "cell_type": "code",
   "execution_count": null,
   "id": "c9be5b74-85b3-427a-9d3d-3e0a6f5545ce",
   "metadata": {},
   "outputs": [],
   "source": []
  }
 ],
 "metadata": {
  "kernelspec": {
   "display_name": "Python 3 (ipykernel)",
   "language": "python",
   "name": "python3"
  },
  "language_info": {
   "codemirror_mode": {
    "name": "ipython",
    "version": 3
   },
   "file_extension": ".py",
   "mimetype": "text/x-python",
   "name": "python",
   "nbconvert_exporter": "python",
   "pygments_lexer": "ipython3",
   "version": "3.12.2"
  }
 },
 "nbformat": 4,
 "nbformat_minor": 5
}
